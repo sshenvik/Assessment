{
 "cells": [
  {
   "cell_type": "markdown",
   "id": "e7304392-d356-4992-a629-218b178f1e1d",
   "metadata": {},
   "source": [
    "# Data Science Tools and Ecosystem"
   ]
  },
  {
   "cell_type": "markdown",
   "id": "ab37bbe3-6558-45bb-9d61-972555586bd5",
   "metadata": {},
   "source": [
    "## In this notebook, Data Science Tools and Ecosystem are summarized."
   ]
  },
  {
   "cell_type": "markdown",
   "id": "41c575c2-81ce-4410-a84c-6a103f3157d9",
   "metadata": {},
   "source": [
    "**Objectives:**\n",
    "- List popular languages for Data Science\n",
    "- Commonly used libraries by Data Scientists\n",
    "- How tables are created in Markdown cells\n",
    "- How arithmetic expressions with comments are created in code cells\n",
    "- How headers are created in Markdown cells"
   ]
  },
  {
   "cell_type": "markdown",
   "id": "88935602-ca3b-496c-a76a-022727e2d0b6",
   "metadata": {
    "tags": []
   },
   "source": [
    "### Some of the popular languages that Data Scientists use are:\n",
    "1. R\n",
    "2. Python \n",
    "3. Julia \n",
    "4. Scala "
   ]
  },
  {
   "cell_type": "markdown",
   "id": "9c9d2e21-f680-4582-8e8e-ae6c4bf9786d",
   "metadata": {},
   "source": [
    "### Some of the commonly used libraries used by Data Scientists include:\n",
    "1. NumPy\n",
    "2. TensorFlow\n",
    "3. Pandas\n",
    "4. PyTorch"
   ]
  },
  {
   "cell_type": "markdown",
   "id": "393b6747-b28d-4535-8ec8-bda14b2aeabf",
   "metadata": {
    "tags": []
   },
   "source": [
    "| Data Science Tools |\n",
    "| ------------------ |\n",
    "| Jupyter Networks |\n",
    "| IBM Watson Studio |\n",
    "| GitHub |\n"
   ]
  },
  {
   "cell_type": "markdown",
   "id": "acd46dbd-596e-498a-a592-3dcd1ab059a0",
   "metadata": {},
   "source": [
    "### Below are a few examples of evaluating arithmetic expressions in Python"
   ]
  },
  {
   "cell_type": "code",
   "execution_count": 9,
   "id": "58439683-4332-47fe-a4b5-e7ce0051fcc9",
   "metadata": {},
   "outputs": [
    {
     "data": {
      "text/plain": [
       "17"
      ]
     },
     "execution_count": 9,
     "metadata": {},
     "output_type": "execute_result"
    }
   ],
   "source": [
    "# This a simple arithmetic expression to mutiply then add integers\n",
    "(3*4)+5"
   ]
  },
  {
   "cell_type": "code",
   "execution_count": 10,
   "id": "b205bbb6-93c6-4d12-9a19-b9ce2106796d",
   "metadata": {},
   "outputs": [
    {
     "data": {
      "text/plain": [
       "3.3333333333333335"
      ]
     },
     "execution_count": 10,
     "metadata": {},
     "output_type": "execute_result"
    }
   ],
   "source": [
    "# This will convert 200 minutes to hours by diving by 60\n",
    "200/60"
   ]
  },
  {
   "cell_type": "markdown",
   "id": "7abf15ac-3056-409d-9f6e-5145ebb19c1c",
   "metadata": {},
   "source": [
    "## Author\n",
    "Shekhar Shenvi Kerkar"
   ]
  },
  {
   "cell_type": "code",
   "execution_count": null,
   "id": "e8dc9b15-d96a-4895-a8ed-e3e4391bbb44",
   "metadata": {},
   "outputs": [],
   "source": []
  }
 ],
 "metadata": {
  "kernelspec": {
   "display_name": "Python",
   "language": "python",
   "name": "conda-env-python-py"
  },
  "language_info": {
   "codemirror_mode": {
    "name": "ipython",
    "version": 3
   },
   "file_extension": ".py",
   "mimetype": "text/x-python",
   "name": "python",
   "nbconvert_exporter": "python",
   "pygments_lexer": "ipython3",
   "version": "3.7.12"
  }
 },
 "nbformat": 4,
 "nbformat_minor": 5
}
